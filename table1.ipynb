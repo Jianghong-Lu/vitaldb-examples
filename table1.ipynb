{
  "nbformat": 4,
  "nbformat_minor": 0,
  "metadata": {
    "colab": {
      "provenance": [],
      "authorship_tag": "ABX9TyNyNajofC8Vy9AoXt9J8WfV",
      "include_colab_link": true
    },
    "kernelspec": {
      "name": "python3",
      "display_name": "Python 3"
    },
    "language_info": {
      "name": "python"
    }
  },
  "cells": [
    {
      "cell_type": "markdown",
      "metadata": {
        "id": "view-in-github",
        "colab_type": "text"
      },
      "source": [
        "<a href=\"https://colab.research.google.com/github/vitaldb/examples/blob/master/table1.ipynb\" target=\"_parent\"><img src=\"https://colab.research.google.com/assets/colab-badge.svg\" alt=\"Open In Colab\"/></a>"
      ]
    },
    {
      "cell_type": "code",
      "source": [
        "age = 1\n",
        "brand = 1"
      ],
      "metadata": {
        "id": "qQ_OFTTpNLm4"
      },
      "execution_count": 11,
      "outputs": []
    },
    {
      "cell_type": "code",
      "execution_count": null,
      "metadata": {
        "id": "M2dbsSSOJ9XX"
      },
      "outputs": [],
      "source": [
        "if age < 1:\n",
        "    print('infant')\n",
        "elif age <= 12:\n",
        "    print('child')\n",
        "elif age < 19:\n",
        "    print('adolescent')\n",
        "else:\n",
        "    print('adult')"
      ]
    },
    {
      "cell_type": "code",
      "source": [
        "if brand in ('BMW', 'Benz', 'Audi'):\n",
        "    print('Made in Germany')\n",
        "elif brand in ('Hyundai', 'Kia'):\n",
        "    print('Made in Korea')\n",
        "else:\n",
        "    pass # do nothing"
      ],
      "metadata": {
        "id": "NlE6peF_KaxM"
      },
      "execution_count": null,
      "outputs": []
    },
    {
      "cell_type": "code",
      "source": [
        "bool('')"
      ],
      "metadata": {
        "colab": {
          "base_uri": "https://localhost:8080/"
        },
        "id": "rUrFHl02LpGi",
        "outputId": "93b7b4cd-9810-4499-b6c3-3e928864d6a4"
      },
      "execution_count": 7,
      "outputs": [
        {
          "output_type": "execute_result",
          "data": {
            "text/plain": [
              "False"
            ]
          },
          "metadata": {},
          "execution_count": 7
        }
      ]
    },
    {
      "cell_type": "code",
      "source": [
        "for i in range(2, 10, 2):\n",
        "    print(i)"
      ],
      "metadata": {
        "colab": {
          "base_uri": "https://localhost:8080/"
        },
        "id": "9sup1kXrOl3Q",
        "outputId": "011ec203-c047-4cf5-f624-f697b59068c7"
      },
      "execution_count": 21,
      "outputs": [
        {
          "output_type": "stream",
          "name": "stdout",
          "text": [
            "2\n",
            "4\n",
            "6\n",
            "8\n"
          ]
        }
      ]
    },
    {
      "cell_type": "code",
      "source": [
        "for c in 'SNUCM':\n",
        "    print(c)"
      ],
      "metadata": {
        "colab": {
          "base_uri": "https://localhost:8080/"
        },
        "id": "Jhom3ojuKaO5",
        "outputId": "37b7489c-7ffe-41b0-f951-892837032f1b"
      },
      "execution_count": 1,
      "outputs": [
        {
          "output_type": "stream",
          "name": "stdout",
          "text": [
            "S\n",
            "N\n",
            "U\n",
            "C\n",
            "M\n"
          ]
        }
      ]
    },
    {
      "cell_type": "code",
      "source": [
        "for member in ('Baby', 'Mama', 'Papa'):\n",
        "    print(member + ' shark')"
      ],
      "metadata": {
        "colab": {
          "base_uri": "https://localhost:8080/"
        },
        "id": "hAbx0vzeMYc8",
        "outputId": "484c0240-3e70-4c3e-c564-969336df8660"
      },
      "execution_count": 23,
      "outputs": [
        {
          "output_type": "stream",
          "name": "stdout",
          "text": [
            "Baby shark\n",
            "Mama shark\n",
            "Papa shark\n"
          ]
        }
      ]
    },
    {
      "cell_type": "code",
      "source": [
        "carbrands = {\n",
        "    'Germany':['Benz', 'Porsche'],\n",
        "    'Korea':['Hyundai', 'Kia']\n",
        "    }\n",
        "for item in carbrands:\n",
        "    print(item)\n",
        "for key, value in carbrands.items():\n",
        "    print('Made in ' + key + ': ' + ', '.join(value))"
      ],
      "metadata": {
        "colab": {
          "base_uri": "https://localhost:8080/"
        },
        "id": "A4ecIz0wM9wL",
        "outputId": "4c65d62a-30e1-46bf-d250-96f3abf452af"
      },
      "execution_count": 22,
      "outputs": [
        {
          "output_type": "stream",
          "name": "stdout",
          "text": [
            "Germany\n",
            "Korea\n",
            "Made in Germany: Benz, Porsche\n",
            "Made in Korea: Hyundai, Kia\n"
          ]
        }
      ]
    },
    {
      "cell_type": "code",
      "source": [],
      "metadata": {
        "id": "vdq8HLzaPFrt"
      },
      "execution_count": null,
      "outputs": []
    }
  ]
}