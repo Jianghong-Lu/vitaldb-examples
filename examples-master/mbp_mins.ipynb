{
  "cells": [
    {
      "cell_type": "markdown",
      "metadata": {
        "id": "view-in-github"
      },
      "source": [
        "<a href=\"https://colab.research.google.com/github/vitaldb/examples/blob/master/mbp_mins.ipynb\" target=\"_parent\"><img src=\"https://colab.research.google.com/assets/colab-badge.svg\" alt=\"Open In Colab\"/></a>"
      ]
    },
    {
      "cell_type": "markdown",
      "metadata": {
        "id": "Fvipu9X94deV"
      },
      "source": [
        "# Calculation of MINS risk depending on BP during surgery\n",
        "In this example, we will calculate the risk of MINS(myocardial injury after non-cardiac surgery, MINS) depending on blood pressure during surgery.\n",
        "\n",
        "> Note that <b>all users who use Vital DB, an open biosignal dataset, must agree to the Data Use Agreement below.\n",
        "</b> If you do not agree, please close this window.\n",
        "Click here: [Data Use Agreement](https://vitaldb.net/dataset/?query=overview&documentId=13qqajnNZzkN7NZ9aXnaQ-47NWy7kx-a6gbrcEsi-gak&sectionId=h.vcpgs1yemdb5)"
      ]
    },
    {
      "cell_type": "markdown",
      "metadata": {
        "id": "SqawrQV74y0G"
      },
      "source": [
        "## Required libraries and datasets"
      ]
    },
    {
      "cell_type": "code",
      "execution_count": 1,
      "metadata": {
        "id": "p4HnPH-U4zlv"
      },
      "outputs": [],
      "source": [
        "import pandas as pd\n",
        "import numpy as np\n",
        "\n",
        "df_cases = pd.read_csv(\"https://api.vitaldb.net/cases\")  # 임상 정보\n",
        "df_trks = pd.read_csv('https://api.vitaldb.net/trks')  # 트랙 목록\n",
        "df_labs = pd.read_csv('https://api.vitaldb.net/labs')  # lab 데이터"
      ]
    },
    {
      "cell_type": "markdown",
      "metadata": {
        "id": "SmpjUVoJ48g3"
      },
      "source": [
        "## Case Selection\n",
        "Use only 100 patients with troponin I results."
      ]
    },
    {
      "cell_type": "code",
      "execution_count": 3,
      "metadata": {
        "colab": {
          "base_uri": "https://localhost:8080/"
        },
        "id": "bC5fzyn_5FnU",
        "outputId": "17a62775-187f-445b-e452-251a8095f842"
      },
      "outputs": [
        {
          "output_type": "stream",
          "name": "stdout",
          "text": [
            "Total 100 cases found\n"
          ]
        }
      ],
      "source": [
        "caseids = list(\n",
        "    set(df_trks[df_trks['tname'] == 'Solar8000/ART_MBP']['caseid']) &\n",
        "    set(df_labs[df_labs['name'] == 'wbc']['caseid'])\n",
        ")\n",
        "caseids = caseids[:100]\n",
        "print('Total {} cases found'.format(len(caseids)))"
      ]
    },
    {
      "cell_type": "markdown",
      "metadata": {
        "id": "i71VaVkr5HDq"
      },
      "source": [
        "## Load and calculate data for each case\n",
        "- First of all, calculate the postoperative troponin I concentration for each case from vitaldb, and determine whether MINS occurs from this. In this example, MINS is defined as troponin I > 0.028 ng/mL.\n",
        "- Also, let's get the ART_MBP data and find the ratio of the measured values that stayed below the threshold during the entire operation. The threshold range is 40-80mmHg."
      ]
    },
    {
      "cell_type": "code",
      "execution_count": 4,
      "metadata": {
        "colab": {
          "base_uri": "https://localhost:8080/"
        },
        "id": "mRz6-gA65WPd",
        "outputId": "136c7c6f-76fb-4832-93a8-8c313d8376cc"
      },
      "outputs": [
        {
          "output_type": "stream",
          "name": "stdout",
          "text": [
            "loading 1...15.16, HIGH WBC\n",
            "loading 4...11.65, \n",
            "loading 7...12.89, HIGH WBC\n",
            "loading 10...13.38, HIGH WBC\n",
            "loading 12...19.74, HIGH WBC\n",
            "loading 13...14.83, HIGH WBC\n",
            "loading 14...no postop wbc\n",
            "loading 16...12.55, HIGH WBC\n",
            "loading 17...16.27, HIGH WBC\n",
            "loading 19...15.92, HIGH WBC\n",
            "loading 20...48.59, HIGH WBC\n",
            "loading 22...9.8, \n",
            "loading 24...8.92, \n",
            "loading 25...23.63, HIGH WBC\n",
            "loading 26...14.6, HIGH WBC\n",
            "loading 27...no postop wbc\n",
            "loading 28...8.79, \n",
            "loading 29...9.79, \n",
            "loading 31...11.46, \n",
            "loading 32...no postop wbc\n",
            "loading 34...no postop wbc\n",
            "loading 38...11.97, \n",
            "loading 41...13.12, HIGH WBC\n",
            "loading 43...12.21, HIGH WBC\n",
            "loading 44...12.19, HIGH WBC\n",
            "loading 46...14.74, HIGH WBC\n",
            "loading 49...11.13, \n",
            "loading 50...11.98, \n",
            "loading 51...9.01, \n",
            "loading 52...13.88, HIGH WBC\n",
            "loading 53...14.17, HIGH WBC\n",
            "loading 55...19.51, HIGH WBC\n",
            "loading 56...19.2, HIGH WBC\n",
            "loading 58...13.53, HIGH WBC\n",
            "loading 60...8.55, \n",
            "loading 61...7.74, \n",
            "loading 64...11.73, \n",
            "loading 65...13.41, HIGH WBC\n",
            "loading 66...7.59, \n",
            "loading 67...10.3, \n",
            "loading 68...13.05, HIGH WBC\n",
            "loading 69...10.72, \n",
            "loading 70...8.71, \n",
            "loading 74...no postop wbc\n",
            "loading 75...20.74, HIGH WBC\n",
            "loading 76...9.56, \n",
            "loading 77...8.51, \n",
            "loading 79...12.76, HIGH WBC\n",
            "loading 83...8.33, \n",
            "loading 84...13.78, HIGH WBC\n",
            "loading 87...16.65, HIGH WBC\n",
            "loading 92...11.54, \n",
            "loading 93...7.43, \n",
            "loading 94...14.85, HIGH WBC\n",
            "loading 96...16.58, HIGH WBC\n",
            "loading 97...13.36, HIGH WBC\n",
            "loading 101...13.67, HIGH WBC\n",
            "loading 103...8.72, \n",
            "loading 104...12.16, HIGH WBC\n",
            "loading 105...7.29, \n",
            "loading 108...8.87, \n",
            "loading 111...9.85, \n",
            "loading 112...9.65, \n",
            "loading 113...14.78, HIGH WBC\n",
            "loading 114...no postop wbc\n",
            "loading 115...no mbp\n",
            "loading 116...5.75, \n",
            "loading 117...11.55, \n",
            "loading 118...19.32, HIGH WBC\n",
            "loading 119...no postop wbc\n",
            "loading 124...9.21, \n",
            "loading 125...13.9, HIGH WBC\n",
            "loading 126...7.57, \n",
            "loading 128...16.5, HIGH WBC\n",
            "loading 130...13.2, HIGH WBC\n",
            "loading 132...14.7, HIGH WBC\n",
            "loading 135...6.13, \n",
            "loading 136...17.32, HIGH WBC\n",
            "loading 137...8.89, \n",
            "loading 138...7.66, \n",
            "loading 139...10.01, \n",
            "loading 140...11.36, \n",
            "loading 142...12.43, HIGH WBC\n",
            "loading 143...21.26, HIGH WBC\n",
            "loading 144...10.29, \n",
            "loading 145...24.56, HIGH WBC\n",
            "loading 146...25.06, HIGH WBC\n",
            "loading 148...10.86, \n",
            "loading 149...16.22, HIGH WBC\n",
            "loading 150...11.73, \n",
            "loading 152...12.6, HIGH WBC\n",
            "loading 153...13.34, HIGH WBC\n",
            "loading 156...13.65, HIGH WBC\n",
            "loading 157...7.22, \n",
            "loading 160...15.97, HIGH WBC\n",
            "loading 161...10.92, \n",
            "loading 163...no postop wbc\n",
            "loading 164...15.69, HIGH WBC\n",
            "loading 166...13.56, HIGH WBC\n",
            "loading 167...14.76, HIGH WBC\n",
            "50 HIGH WBC 54.9%\n"
          ]
        }
      ],
      "source": [
        "# Set blood pressure threshold\n",
        "mbp_thresholds = np.arange(40, 80)\n",
        "rows = []\n",
        "\n",
        "# Save the final result\n",
        "df = pd.DataFrame()\n",
        "for caseid in caseids:\n",
        "    print('loading {}...'.format(caseid), flush=True, end='')\n",
        "\n",
        "    # Column ['anend'] : anesthesia end time\n",
        "    aneend = df_cases[(df_cases['caseid'] == caseid)]['aneend'].values[0]\n",
        "\n",
        "    # Maximum creatinine concentration within 48 hours after surgery\n",
        "    postop_wbc = df_labs[(df_labs['caseid'] == caseid) & (df_labs['dt'] > aneend) &\n",
        "        (df_labs['dt'] < aneend + 48 * 3600) & (df_labs['name'] == 'wbc')]['result'].max(skipna=True)\n",
        "    if not postop_wbc or np.isnan(postop_wbc):\n",
        "        print('no postop wbc')\n",
        "        continue\n",
        "\n",
        "    # high_wbc > 12 x 10³/uL  mins = True\n",
        "    high_wbc = postop_wbc > 12\n",
        "\n",
        "    # Blood pressure during surgery\n",
        "    tid_mbp = df_trks[(df_trks['caseid'] == caseid) & (df_trks['tname'] == 'Solar8000/ART_MBP')]['tid'].values[0]\n",
        "    mbps = pd.read_csv('https://api.vitaldb.net/' + tid_mbp).values[:,1]\n",
        "    mbps = mbps[~np.isnan(mbps)]\n",
        "    mbps = mbps[(mbps > 20) & (mbps < 150)]\n",
        "    if len(mbps) < 10:\n",
        "        print('no mbp')\n",
        "        continue\n",
        "\n",
        "    # Calculate the percentage that stays for the time as increasing the blood pressure by 1 unit.\n",
        "    row = {'high_wbc':high_wbc}\n",
        "    for mbp_threshold in mbp_thresholds:\n",
        "        row['under{}'.format(mbp_threshold)] = np.nanmean(mbps < mbp_threshold) * 100\n",
        "    rows.append(row)\n",
        "\n",
        "    # Append the result into row\n",
        "    print('{}, {}'.format(postop_wbc, 'HIGH WBC' if high_wbc else ''))\n",
        "\n",
        "df = pd.DataFrame(rows)\n",
        "print('{} HIGH WBC {:.1f}%'.format(df['high_wbc'].sum(), df['high_wbc'].mean() * 100))"
      ]
    },
    {
      "cell_type": "markdown",
      "metadata": {
        "id": "NCz7SN-N5ajv"
      },
      "source": [
        "## Calculate the odds ratio for MINS prediction depending on BP threshold\n",
        "\n",
        "Let's calculate the odds ratio regarding how much each BP case increases the risk of MINS, using the above-measured values."
      ]
    },
    {
      "cell_type": "code",
      "execution_count": 6,
      "metadata": {
        "id": "kqldpT3h5g9X",
        "colab": {
          "base_uri": "https://localhost:8080/"
        },
        "outputId": "1c16a0fb-0674-4155-b39c-c8a10ae050f5"
      },
      "outputs": [
        {
          "output_type": "stream",
          "name": "stdout",
          "text": [
            "Optimization terminated successfully.\n",
            "         Current function value: 0.683418\n",
            "         Iterations 6\n",
            "under40\tb=0.287, exp(b)=1.333, pval=0.447\n",
            "Optimization terminated successfully.\n",
            "         Current function value: 0.683098\n",
            "         Iterations 6\n",
            "under41\tb=0.288, exp(b)=1.333, pval=0.437\n",
            "Optimization terminated successfully.\n",
            "         Current function value: 0.682700\n",
            "         Iterations 6\n",
            "under42\tb=0.296, exp(b)=1.344, pval=0.421\n",
            "Optimization terminated successfully.\n",
            "         Current function value: 0.681999\n",
            "         Iterations 6\n",
            "under43\tb=0.315, exp(b)=1.371, pval=0.401\n",
            "Optimization terminated successfully.\n",
            "         Current function value: 0.681762\n",
            "         Iterations 6\n",
            "under44\tb=0.309, exp(b)=1.362, pval=0.388\n",
            "Optimization terminated successfully.\n",
            "         Current function value: 0.681091\n",
            "         Iterations 6\n",
            "under45\tb=0.321, exp(b)=1.379, pval=0.368\n",
            "Optimization terminated successfully.\n",
            "         Current function value: 0.679864\n",
            "         Iterations 6\n",
            "under46\tb=0.347, exp(b)=1.414, pval=0.336\n",
            "Optimization terminated successfully.\n",
            "         Current function value: 0.679323\n",
            "         Iterations 6\n",
            "under47\tb=0.342, exp(b)=1.407, pval=0.335\n",
            "Optimization terminated successfully.\n",
            "         Current function value: 0.680727\n",
            "         Iterations 6\n",
            "under48\tb=0.254, exp(b)=1.289, pval=0.384\n",
            "Optimization terminated successfully.\n",
            "         Current function value: 0.680900\n",
            "         Iterations 7\n",
            "under49\tb=0.203, exp(b)=1.225, pval=0.421\n",
            "Optimization terminated successfully.\n",
            "         Current function value: 0.681153\n",
            "         Iterations 7\n",
            "under50\tb=0.160, exp(b)=1.174, pval=0.457\n",
            "Optimization terminated successfully.\n",
            "         Current function value: 0.680625\n",
            "         Iterations 7\n",
            "under51\tb=0.141, exp(b)=1.151, pval=0.488\n",
            "Optimization terminated successfully.\n",
            "         Current function value: 0.680166\n",
            "         Iterations 7\n",
            "under52\tb=0.132, exp(b)=1.141, pval=0.478\n",
            "Optimization terminated successfully.\n",
            "         Current function value: 0.678946\n",
            "         Iterations 7\n",
            "under53\tb=0.139, exp(b)=1.149, pval=0.443\n",
            "Optimization terminated successfully.\n",
            "         Current function value: 0.677912\n",
            "         Iterations 7\n",
            "under54\tb=0.134, exp(b)=1.144, pval=0.392\n",
            "Optimization terminated successfully.\n",
            "         Current function value: 0.678082\n",
            "         Iterations 7\n",
            "under55\tb=0.111, exp(b)=1.118, pval=0.382\n",
            "Optimization terminated successfully.\n",
            "         Current function value: 0.679313\n",
            "         Iterations 7\n",
            "under56\tb=0.082, exp(b)=1.085, pval=0.389\n",
            "Optimization terminated successfully.\n",
            "         Current function value: 0.679344\n",
            "         Iterations 6\n",
            "under57\tb=0.068, exp(b)=1.071, pval=0.353\n",
            "Optimization terminated successfully.\n",
            "         Current function value: 0.677245\n",
            "         Iterations 6\n",
            "under58\tb=0.068, exp(b)=1.071, pval=0.278\n",
            "Optimization terminated successfully.\n",
            "         Current function value: 0.677370\n",
            "         Iterations 6\n",
            "under59\tb=0.058, exp(b)=1.059, pval=0.257\n",
            "Optimization terminated successfully.\n",
            "         Current function value: 0.680254\n",
            "         Iterations 5\n",
            "under60\tb=0.041, exp(b)=1.041, pval=0.294\n",
            "Optimization terminated successfully.\n",
            "         Current function value: 0.681891\n",
            "         Iterations 5\n",
            "under61\tb=0.031, exp(b)=1.031, pval=0.326\n",
            "Optimization terminated successfully.\n",
            "         Current function value: 0.682284\n",
            "         Iterations 5\n",
            "under62\tb=0.026, exp(b)=1.027, pval=0.331\n",
            "Optimization terminated successfully.\n",
            "         Current function value: 0.682808\n",
            "         Iterations 5\n",
            "under63\tb=0.023, exp(b)=1.023, pval=0.345\n",
            "Optimization terminated successfully.\n",
            "         Current function value: 0.683803\n",
            "         Iterations 4\n",
            "under64\tb=0.018, exp(b)=1.018, pval=0.385\n",
            "Optimization terminated successfully.\n",
            "         Current function value: 0.683859\n",
            "         Iterations 4\n",
            "under65\tb=0.016, exp(b)=1.017, pval=0.385\n",
            "Optimization terminated successfully.\n",
            "         Current function value: 0.683613\n",
            "         Iterations 4\n",
            "under66\tb=0.016, exp(b)=1.016, pval=0.369\n",
            "Optimization terminated successfully.\n",
            "         Current function value: 0.683668\n",
            "         Iterations 4\n",
            "under67\tb=0.014, exp(b)=1.014, pval=0.370\n",
            "Optimization terminated successfully.\n",
            "         Current function value: 0.684190\n",
            "         Iterations 4\n",
            "under68\tb=0.012, exp(b)=1.012, pval=0.396\n",
            "Optimization terminated successfully.\n",
            "         Current function value: 0.684519\n",
            "         Iterations 4\n",
            "under69\tb=0.011, exp(b)=1.011, pval=0.415\n",
            "Optimization terminated successfully.\n",
            "         Current function value: 0.685134\n",
            "         Iterations 4\n",
            "under70\tb=0.009, exp(b)=1.009, pval=0.455\n",
            "Optimization terminated successfully.\n",
            "         Current function value: 0.685636\n",
            "         Iterations 4\n",
            "under71\tb=0.008, exp(b)=1.008, pval=0.493\n",
            "Optimization terminated successfully.\n",
            "         Current function value: 0.686003\n",
            "         Iterations 4\n",
            "under72\tb=0.007, exp(b)=1.007, pval=0.525\n",
            "Optimization terminated successfully.\n",
            "         Current function value: 0.686249\n",
            "         Iterations 4\n",
            "under73\tb=0.006, exp(b)=1.006, pval=0.548\n",
            "Optimization terminated successfully.\n",
            "         Current function value: 0.686683\n",
            "         Iterations 4\n",
            "under74\tb=0.005, exp(b)=1.005, pval=0.595\n",
            "Optimization terminated successfully.\n",
            "         Current function value: 0.686957\n",
            "         Iterations 4\n",
            "under75\tb=0.004, exp(b)=1.004, pval=0.629\n",
            "Optimization terminated successfully.\n",
            "         Current function value: 0.687340\n",
            "         Iterations 4\n",
            "under76\tb=0.004, exp(b)=1.004, pval=0.685\n",
            "Optimization terminated successfully.\n",
            "         Current function value: 0.687639\n",
            "         Iterations 4\n",
            "under77\tb=0.003, exp(b)=1.003, pval=0.739\n",
            "Optimization terminated successfully.\n",
            "         Current function value: 0.687842\n",
            "         Iterations 4\n",
            "under78\tb=0.002, exp(b)=1.002, pval=0.786\n",
            "Optimization terminated successfully.\n",
            "         Current function value: 0.688005\n",
            "         Iterations 4\n",
            "under79\tb=0.002, exp(b)=1.002, pval=0.833\n"
          ]
        }
      ],
      "source": [
        "# Get odd ration using univariate logistic regression\n",
        "import statsmodels.api as sm\n",
        "df['intercept'] = 1\n",
        "df['high_wbc'] = df['high_wbc'].astype(bool)\n",
        "odd_ratios = []\n",
        "for mbp_threshold in mbp_thresholds:\n",
        "    c = 'under{}'.format(mbp_threshold)\n",
        "    model = sm.Logit(df['high_wbc'], df[['intercept', c]])\n",
        "    res = model.fit()\n",
        "    b = res.params[c]\n",
        "    pval = res.pvalues[c]\n",
        "    odd_ratios.append(np.exp(b))\n",
        "    print('{}\\tb={:.3f}, exp(b)={:.3f}, pval={:.3f}'.format(c, b, np.exp(b), pval))"
      ]
    },
    {
      "cell_type": "markdown",
      "metadata": {
        "id": "Wi1dQ0yE5j_V"
      },
      "source": [
        "## Draw a graph\n",
        "We can find out that the odds ratio of MINS increases as the time that MBP stays below increases."
      ]
    },
    {
      "cell_type": "code",
      "execution_count": 9,
      "metadata": {
        "id": "gnTsUGHE5rcY",
        "colab": {
          "base_uri": "https://localhost:8080/",
          "height": 465
        },
        "outputId": "a6eb399b-5b24-44c6-d8d2-5081f9f01113"
      },
      "outputs": [
        {
          "output_type": "display_data",
          "data": {
            "text/plain": [
              "<Figure size 800x500 with 1 Axes>"
            ],
            "image/png": "[encoded data removed]"
          },
          "metadata": {}
        }
      ],
      "source": [
        "import matplotlib.pyplot as plt\n",
        "\n",
        "plt.figure(figsize=(8,5))\n",
        "plt.plot(mbp_thresholds, odd_ratios)\n",
        "plt.xlabel('Mean Blood Pressure Threshold (mmHg)')\n",
        "plt.ylabel('Odds Ratio')\n",
        "plt.show()"
      ]
    }
  ],
  "metadata": {
    "colab": {
      "provenance": []
    },
    "kernelspec": {
      "display_name": "Python 3 (ipykernel)",
      "language": "python",
      "name": "python3"
    },
    "language_info": {
      "codemirror_mode": {
        "name": "ipython",
        "version": 3
      },
      "file_extension": ".py",
      "mimetype": "text/x-python",
      "name": "python",
      "nbconvert_exporter": "python",
      "pygments_lexer": "ipython3",
      "version": "3.9.12"
    }
  },
  "nbformat": 4,
  "nbformat_minor": 0
}